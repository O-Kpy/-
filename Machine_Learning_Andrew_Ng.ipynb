{
  "nbformat": 4,
  "nbformat_minor": 0,
  "metadata": {
    "colab": {
      "name": "Machine Learning Andrew Ng.ipynb",
      "provenance": [],
      "authorship_tag": "ABX9TyO4eDtszaAAADxWmb48ObjS",
      "include_colab_link": true
    },
    "kernelspec": {
      "name": "python3",
      "display_name": "Python 3"
    },
    "language_info": {
      "name": "python"
    }
  },
  "cells": [
    {
      "cell_type": "markdown",
      "metadata": {
        "id": "view-in-github",
        "colab_type": "text"
      },
      "source": [
        "<a href=\"https://colab.research.google.com/github/O-Kpy/Machine-Learning-Lectures/blob/main/Machine_Learning_Andrew_Ng.ipynb\" target=\"_parent\"><img src=\"https://colab.research.google.com/assets/colab-badge.svg\" alt=\"Open In Colab\"/></a>"
      ]
    },
    {
      "cell_type": "markdown",
      "metadata": {
        "id": "p_fihj7j4-na"
      },
      "source": [
        "# Lecture 3 Linear Algebra Review\n",
        "\n",
        "* 머신러닝을 위해 알아야할 Algebra\n",
        "\n",
        "* 스칼라, 벡터, 행렬\n",
        "\n",
        "* 스칼라, 벡터와 행렬의 연산\n",
        "\n",
        "스칼라, 매트릭스 연산\n",
        "```\n",
        "import numpy as np\n",
        "a = np.array([(3,2,1), (2,6,7)])\n",
        "b = np.array([(1)])\n",
        "a + b\n",
        "\n",
        ">>array([[4, 3, 2],\n",
        "         [3, 7, 8]])\n",
        "\n",
        "a * b\n",
        "\n",
        ">>array([[3, 2, 1],\n",
        "         [2, 6, 7]])\n",
        "```\n",
        "\n",
        "벡터, 행렬 연산\n",
        "\n",
        "\n",
        "```\n",
        "import numpy as np\n",
        "a = np.array([(3,2), (2,6), (7,5)])\n",
        "b = np.array([(1),(2)])\n",
        "a * b\n",
        "\n",
        ">>array([[ 3,  4],\n",
        "         [ 2, 12],\n",
        "         [ 7, 10]])\n",
        "\n",
        "a + b\n",
        "\n",
        ">>array([[4, 4],\n",
        "         [3, 8],\n",
        "         [8, 7]])\n",
        "```\n",
        "\n",
        "matrix와 matrix연산의 설명은 생략한다.(m*n, n*m n과 n이 같으면 연산 가능)\n",
        "\n",
        "* matrix연산에서 A * B와 B * A는 같지 않다.\n",
        "\n",
        "\n",
        "\n"
      ]
    },
    {
      "cell_type": "code",
      "metadata": {
        "id": "wK1waYsMDlj5"
      },
      "source": [
        ""
      ],
      "execution_count": null,
      "outputs": []
    }
  ]
}